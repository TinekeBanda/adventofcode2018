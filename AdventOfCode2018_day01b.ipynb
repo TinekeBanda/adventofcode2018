{
 "cells": [
  {
   "cell_type": "code",
   "execution_count": 1,
   "metadata": {},
   "outputs": [],
   "source": [
    "import numpy as np"
   ]
  },
  {
   "cell_type": "code",
   "execution_count": 2,
   "metadata": {},
   "outputs": [],
   "source": [
    "data = np.loadtxt(\"day01/input_a.txt\", delimiter=',', dtype='int')"
   ]
  },
  {
   "cell_type": "code",
   "execution_count": null,
   "metadata": {},
   "outputs": [],
   "source": [
    "current_frequency = 0\n",
    "reached_frequencies = set([current_frequency])\n",
    "found = False\n",
    "\n",
    "while not found:\n",
    "    for frequency in data:\n",
    "        current_frequency += frequency\n",
    "        if current_frequency in reached_frequencies:\n",
    "            found = True\n",
    "            break\n",
    "        reached_frequencies.add(current_frequency)\n",
    "    \n",
    "print(found)\n",
    "print(current_frequency)"
   ]
  }
 ],
 "metadata": {
  "kernelspec": {
   "display_name": "Python 3",
   "language": "python",
   "name": "python3"
  },
  "language_info": {
   "codemirror_mode": {
    "name": "ipython",
    "version": 3
   },
   "file_extension": ".py",
   "mimetype": "text/x-python",
   "name": "python",
   "nbconvert_exporter": "python",
   "pygments_lexer": "ipython3",
   "version": "3.7.0"
  }
 },
 "nbformat": 4,
 "nbformat_minor": 2
}
